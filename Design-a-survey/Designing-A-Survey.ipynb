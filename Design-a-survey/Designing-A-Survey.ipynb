{
 "cells": [
  {
   "cell_type": "markdown",
   "metadata": {},
   "source": [
    "# Designing a Survey \n",
    "\n",
    "Within this notebook i am going to briefly demonstrate how you, the user, can design a simple Roman survey, making some assumptions. "
   ]
  },
  {
   "cell_type": "code",
   "execution_count": 1,
   "metadata": {},
   "outputs": [],
   "source": [
    "import matplotlib\n",
    "import numpy as np\n",
    "import os, sys, glob\n",
    "import scipy as sp\n",
    "import pandas as pd\n",
    "import matplotlib.pyplot as plt\n",
    "import scipy.integrate as integrate\n",
    "from scipy.interpolate import interp1d\n",
    "from scipy import interp\n",
    "import astropy.io\n",
    "from astropy.io import fits\n",
    "from astropy.io import ascii\n",
    "import math"
   ]
  },
  {
   "cell_type": "markdown",
   "metadata": {},
   "source": [
    "# Instrument and observatory inputs. \n",
    "\n",
    "To define our survey we need to think about what instruments we want to use and how. \n",
    "For this tutorial we will creating a two tier imaging survey using filters from the Wide Field Instrument.\n",
    "\n",
    "## Filters\n",
    "\n",
    "The Roman WFI has eight imgaing filters, one prism, and one grism. The zero-points of the imaging filters and prism are specified below. **Jeff can you check these please**"
   ]
  },
  {
   "cell_type": "code",
   "execution_count": 2,
   "metadata": {},
   "outputs": [],
   "source": [
    "ZP_R = 26.56\n",
    "ZP_Z = 26.41\n",
    "ZP_Y = 26.44\n",
    "ZP_J = 26.40\n",
    "ZP_H = 26.43\n",
    "ZP_F = 25.95\n",
    "ZP_W = 27.65\n",
    "ZP_Prism = 27.70\n",
    "\n",
    "ZPs = {'R':float(ZP_R), 'Z':float(ZP_Z), 'Y':float(ZP_Y), 'J':float(ZP_J), 'H':float(ZP_H), 'F':float(ZP_F), 'W':float(ZP_W)}"
   ]
  },
  {
   "cell_type": "markdown",
   "metadata": {},
   "source": [
    "# Zodical light\n",
    "These are the zodical light measurements taken from WFIRS_WFI_Reference_Information_20190628\n",
    "\n",
    "They are count rate per pixel at minimum zodi\n",
    "(e-/s/pix)\n",
    "\n",
    "For observations at high galactic latitudes, the Zodi intensity is typically ~1.5x the minimum. For observation into the galactic bulge the Zodi intensity is typically 2.5-7x the minimum."
   ]
  },
  {
   "cell_type": "code",
   "execution_count": 3,
   "metadata": {},
   "outputs": [],
   "source": [
    "zod_R = 0.27\n",
    "zod_Z = 0.27\n",
    "zod_Y = 0.29\n",
    "zod_J = 0.28\n",
    "zod_H = 0.26\n",
    "zod_F = 0.15\n",
    "zod_W = 0.85\n",
    "zod_K = 0.13\n",
    "\n",
    "zodi = {'R':float(zod_R),'Z':float(zod_Z),'Y':float(zod_Y),'J':float(zod_J),'H':float(zod_H),'F':float(zod_F),'W':float(zod_W), 'K':float(zod_K)}"
   ]
  },
  {
   "cell_type": "markdown",
   "metadata": {},
   "source": [
    "# Thermal Background \n",
    "Estimated thermal background e-/s"
   ]
  },
  {
   "cell_type": "code",
   "execution_count": 1,
   "metadata": {},
   "outputs": [],
   "source": [
    "ther_R = 0.0\n",
    "ther_Z = 0.0\n",
    "ther_Y = 0.0\n",
    "ther_J = 0.0\n",
    "ther_H = 0.04\n",
    "ther_F = 0.17\n",
    "ther_W = 0.98\n",
    "ther_K = 4.52\n",
    "\n",
    "ther = {'R':float(ther_R),'Z':float(ther_Z),'Y':float(ther_Y),'J':float(ther_J),'H':float(ther_H),'F':float(ther_F),'W':float(ther_W),'K':float(ther_K)}"
   ]
  },
  {
   "cell_type": "markdown",
   "metadata": {},
   "source": [
    "# Dark Current\n",
    "This is expected to be less than 0.005 e-/pix/sec"
   ]
  },
  {
   "cell_type": "code",
   "execution_count": 5,
   "metadata": {},
   "outputs": [],
   "source": [
    "dark = 0.005"
   ]
  },
  {
   "cell_type": "code",
   "execution_count": 6,
   "metadata": {},
   "outputs": [],
   "source": [
    "def read_noise_calc(exp):\n",
    "    RD = 2.825\n",
    "    read_noise = np.sqrt((5**2)+12*(20**2)*(exp/RD-1)/(exp/RD)/(exp/RD+1))\n",
    "\n",
    "    return read_noise"
   ]
  },
  {
   "cell_type": "markdown",
   "metadata": {},
   "source": [
    "# Readnoise\n",
    "\n",
    "The read-out time is 2.825 seconds\n",
    "\n",
    "We calcualte the read noise based on exposure times and an equation adjusted from Rauscher et al. 2007"
   ]
  },
  {
   "cell_type": "code",
   "execution_count": 7,
   "metadata": {},
   "outputs": [],
   "source": [
    "def background_noise(zod,ther,dark,exp):\n",
    "    sky_sig = np.sqrt((zod*exp)+(ther*exp)+(dark*exp))\n",
    "    \n",
    "    return sky_sig"
   ]
  },
  {
   "cell_type": "markdown",
   "metadata": {},
   "source": [
    "# PSF FWHM Values\n",
    "\n",
    "Values are quoted in arcseconds. Note that the PSF FWHM in arcseconds are simulated at the center of the center pixel of a detector near the center of the WFI FOV using an input spectrum for a K0V type star. "
   ]
  },
  {
   "cell_type": "code",
   "execution_count": 8,
   "metadata": {},
   "outputs": [],
   "source": [
    "PSF_R = 0.058\n",
    "PSF_Z = 0.073\n",
    "PSF_Y = 0.087\n",
    "PSF_J = 0.105\n",
    "PSF_H = 0.127\n",
    "PSF_F = 0.151\n",
    "PSF_W = 0.105\n",
    "PSF_K = 0.175\n",
    "\n",
    "PSFs = {'R':float(PSF_R),'Z':float(PSF_Z),'Y':float(PSF_Y),'J':float(PSF_J),'H':float(PSF_H),'F':float(PSF_F), 'W':float(PSF_W), 'K':float(PSF_K)}"
   ]
  },
  {
   "cell_type": "markdown",
   "metadata": {},
   "source": [
    "# Areas\n",
    "\n",
    "For each tier you are going to want to assign different areas.\n",
    "A single Roman ponting covers 0.281 square degrees."
   ]
  },
  {
   "cell_type": "code",
   "execution_count": 9,
   "metadata": {},
   "outputs": [],
   "source": [
    "pointing = 0.281    "
   ]
  },
  {
   "cell_type": "code",
   "execution_count": 10,
   "metadata": {},
   "outputs": [],
   "source": [
    "def area_calc(area):\n",
    "    field = float(0.281) #size of each pointing\n",
    "    pt = area/field\n",
    "    pointings = math.trunc(pt)\n",
    "    \n",
    "    area_deg = pointings * field\n",
    "    \n",
    "    return area_deg, pointings"
   ]
  },
  {
   "cell_type": "markdown",
   "metadata": {},
   "source": [
    "# Exposure Times\n",
    "\n",
    "You are probably going to want to taylor your exosure time based on the S/N you require for your kind of objects. \n",
    "\n",
    "You can use the ETC calculator provided [here](add link to ETC calculator) to do this. You can the plan your survey sized based on how many object you expect in a given area, and how long you want to observe that area to get the requred S/N.\n",
    "\n",
    "For this tutorial I am focusing on the creating of a two tier supernova survey. The shallow part of the survey will focus on obtaining SNe in the R, Z, Y, J bands, ensuring a S/N of at least 10 for a magnitude of 25. Using the ETC, I get the following exposure times (when the selected zodical light contribution is 2).\n",
    "\n",
    "- R = 73.0 s\n",
    "- Z = 110.0 s\n",
    "- Y = 110.0 s\n",
    "- J = 119.0 s\n",
    "\n",
    "Note that its probably not wise to have an exposure time less than 100s as you will dominated by readout noise. As such we will change the R-band exposure time to 100.\n",
    "\n",
    "The cadence of my observation in this shallow field will 5 days.\n",
    "\n",
    "For the deep field i want to target SNe at a magnitude of 26. I will select the YJHF filters and have a cadence of 5 days. \n",
    "\n",
    "- Y = 393.0 s\n",
    "- J = 428.0 s\n",
    "- H = 484.0 s\n",
    "- F = 1077.0 s"
   ]
  },
  {
   "cell_type": "code",
   "execution_count": 11,
   "metadata": {},
   "outputs": [],
   "source": [
    "##SHALLOW###\n",
    "tier1_exp = [100.0, 110.0, 110.0, 119.0]\n",
    "cadence_shallow = 5\n",
    "\n",
    "##DEEP###\n",
    "tier2_exp = [393.0, 428.0, 484.0, 1077.0]\n",
    "cadence_deep = 5"
   ]
  },
  {
   "cell_type": "code",
   "execution_count": 16,
   "metadata": {},
   "outputs": [
    {
     "name": "stdout",
     "output_type": "stream",
     "text": [
      "439.0 2382.0\n"
     ]
    }
   ],
   "source": [
    "##TOTAL VALUES###\n",
    "Shallow_tot = sum(tier1_exp)\n",
    "Deep_tot = sum(tier2_exp)\n",
    "\n",
    "print(Shallow_tot, Deep_tot)"
   ]
  },
  {
   "cell_type": "markdown",
   "metadata": {},
   "source": [
    "From the [Slew Times table](link that page) we note that the time for a shift of the entire detector by one pointing is roughly 70 seconds. As such we will use this as our estimated overhead. "
   ]
  },
  {
   "cell_type": "code",
   "execution_count": 13,
   "metadata": {},
   "outputs": [],
   "source": [
    "overhead = 70"
   ]
  },
  {
   "cell_type": "markdown",
   "metadata": {},
   "source": [
    "You can use the information in the [slew table](add link here to the table) to do a more detailed analysis, but for now this is what we will use."
   ]
  },
  {
   "cell_type": "markdown",
   "metadata": {},
   "source": [
    "# Survey Creation\n",
    "\n",
    "We now need to take each of these componants and create a survey.\n",
    "\n",
    "We know the total amount of time avalible is 700 hrs - so one month.\n",
    "This can be conducted over the first two years.\n",
    "\n",
    "The total exposure time in the shallow field is 439 seconds, and 2382 seconds for the deep.\n",
    "**However** we still need to include our overhead which is 70 seconds per filter, assimung we will be imaging our survey areas all in one fiter, switch, and re-observe with the next.\n",
    "\n",
    "The final shallow survey time per pointing is then 439+(4 x 70) = 719 s, and 2382+(4 x 70) = 2662 s for the deep. \n",
    "\n",
    "The total time is then 3381 seconds, so just under an hr.\n",
    "\n",
    "\n",
    "Since the cadence is 5 days, and the survey can be conducted over two years we know that there should be 146 visits.\n",
    "\n",
    "We can also play around with the length of each visit."
   ]
  },
  {
   "cell_type": "code",
   "execution_count": 14,
   "metadata": {},
   "outputs": [
    {
     "name": "stdout",
     "output_type": "stream",
     "text": [
      "Tier 1\n",
      "Filters: ['R', 'Z', 'Y', 'J']\n",
      "Exp times: [100.0, 110.0, 110.0, 119.0]\n",
      "Total Time: 719.0\n",
      "\n",
      "\n",
      "Tier 2\n",
      "Filters: ['Y', 'J', 'H', 'F']\n",
      "Exp times: [393.0, 428.0, 484.0, 1077.0]\n",
      "Total Time: 2662.0\n",
      "\n",
      "\n"
     ]
    }
   ],
   "source": [
    "# Shallow\n",
    "exp1= Shallow_tot\n",
    "\n",
    "# Deep\n",
    "exp2 = Deep_tot\n",
    "\n",
    "#Telescope info\n",
    "slew = 70 #sec\n",
    "cadence = 5\n",
    "length = 2*365 #Since spread over two years\n",
    "num_visits = length/cadence #Since we are \n",
    "Tot_time = 29.17 #days\n",
    "\n",
    "#You specify what filters you want\n",
    "tier1_flt = ['R','Z','Y','J'] \n",
    "tier2_flt = ['Y','J','H','F']\n",
    "\n",
    "# Get the times for the 1st tier\n",
    "tot_time1 = sum(tier1_exp)+(slew*len(tier1_flt))\n",
    "   \n",
    "# Get the times for the 2nd tier\n",
    "tot_time2 =  sum(tier2_exp)+(slew*len(tier2_flt))\n",
    "    \n",
    "#Now list the tiers you want\n",
    "print(\"Tier 1\")\n",
    "print(\"Filters:\", tier1_flt)\n",
    "print(\"Exp times:\", tier1_exp)\n",
    "print(\"Total Time:\", tot_time1)\n",
    "print(\"\\n\")\n",
    "\n",
    "print(\"Tier 2\")\n",
    "print(\"Filters:\", tier2_flt)\n",
    "print(\"Exp times:\", tier2_exp)\n",
    "print(\"Total Time:\",tot_time2)\n",
    "print(\"\\n\")"
   ]
  },
  {
   "cell_type": "code",
   "execution_count": 17,
   "metadata": {},
   "outputs": [
    {
     "name": "stdout",
     "output_type": "stream",
     "text": [
      "Areas (square degrees): {'SHALLOW': 3.934, 'DEEP': 0.8430000000000001}\n",
      "Time per visut (hrs): Shallow =  2.796111111111111 Deep = 2.2183333333333333 \n",
      " Total Visit time (hrs) =  5.014444444444445 \n",
      " Survey Time (days) =  30.50453703703704\n"
     ]
    }
   ],
   "source": [
    "#Now figure out the areas\n",
    "\n",
    "tot_time1_hrs = tot_time1/(60*60)\n",
    "tot_time2_hrs = tot_time2/(60*60)\n",
    "\n",
    "# You need to input rough areas\n",
    "DA = 1\n",
    "SA = 4\n",
    "\n",
    "DA2, DP = area_calc(DA)\n",
    "SA2, SP = area_calc(SA)\n",
    "Areas = {'SHALLOW': SA2, 'DEEP': DA2}\n",
    "print(\"Areas (square degrees):\", Areas)\n",
    "\n",
    "ST = tot_time1_hrs * SP\n",
    "DT =tot_time2_hrs * DP\n",
    "\n",
    "t_visit = (ST+DT)\n",
    "t_survey = ((ST+DT)*num_visits)/24\n",
    "\n",
    "print(\"Time per visut (hrs): Shallow = \", ST, \"Deep =\",DT, \"\\n Total Visit time (hrs) = \", t_visit, \"\\n Survey Time (days) = \", t_survey)\n"
   ]
  },
  {
   "cell_type": "markdown",
   "metadata": {},
   "source": [
    "Ok we have figured out the areas for the two given our timing constraint. Note that the total time is just over that alloted, and we may need to adjust for that. However, this gives you the user the basic guidelines for establishing your surveys."
   ]
  }
 ],
 "metadata": {
  "kernelspec": {
   "display_name": "Python 3",
   "language": "python",
   "name": "python3"
  },
  "language_info": {
   "codemirror_mode": {
    "name": "ipython",
    "version": 3
   },
   "file_extension": ".py",
   "mimetype": "text/x-python",
   "name": "python",
   "nbconvert_exporter": "python",
   "pygments_lexer": "ipython3",
   "version": "3.7.7"
  }
 },
 "nbformat": 4,
 "nbformat_minor": 2
}
