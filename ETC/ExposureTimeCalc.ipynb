{
 "cells": [
  {
   "cell_type": "markdown",
   "metadata": {},
   "source": [
    "# Exposure Time Calculator\n",
    "\n",
    "In this notebook we will be doing exposure time calculations for point sources, and extended sources with half-light radii of 0.20 arcsec or 0.3 arcsec.\n",
    "\n",
    "When running this notebook you will be asked to select your filter, the Zodical light contribution, the S/N, and the nature of your source. \n",
    "\n",
    "The options for each are discussed below:\n",
    "\n",
    "- Filters: F062, F087, F106, F129, F158, F184, F146, F213 \n",
    "- Zodiacal light contributions (multiples of the minimum): 1.4, 2.0, 3.0\n",
    "- Source: ps for point sources, ext1 for half-light radius = 0.2\", ext2 for half-light radius = 0.3\"\n",
    "- S/N: 5, 10, 15, 20, 50\n",
    "\n",
    "Exposure times are quantized in multiples of  3 readout frames, with the number of visits/dithers: 1\n",
    "\n",
    "You can calculate either the magnitude for an object at a for a given exposure time and a S/N, or the exposure time needed for a given magnitude."
   ]
  },
  {
   "cell_type": "code",
   "execution_count": 1,
   "metadata": {},
   "outputs": [],
   "source": [
    "import numpy as np\n",
    "import matplotlib.pyplot as plt\n",
    "from astropy.io import ascii\n",
    "from scipy.interpolate import interp1d\n",
    "import ipywidgets \n",
    "from ipywidgets import widgets"
   ]
  },
  {
   "cell_type": "markdown",
   "metadata": {},
   "source": [
    "This notebook works by conducting a simple linear interpolation between the magnitude and exposure time for a given S/N."
   ]
  },
  {
   "cell_type": "markdown",
   "metadata": {},
   "source": [
    "# Select you Filter:"
   ]
  },
  {
   "cell_type": "code",
   "execution_count": 2,
   "metadata": {},
   "outputs": [
    {
     "data": {
      "application/vnd.jupyter.widget-view+json": {
       "model_id": "3a5f9551efe0466f92cfc7a9a00630a3",
       "version_major": 2,
       "version_minor": 0
      },
      "text/plain": [
       "Dropdown(description='Filter:', options=('F062', 'F087', 'F106', 'F129', 'F158', 'F184', 'F146', 'F213'), valu…"
      ]
     },
     "metadata": {},
     "output_type": "display_data"
    }
   ],
   "source": [
    "widg_flt = widgets.Dropdown(\n",
    "    options=['F062', 'F087', 'F106', 'F129', 'F158', 'F184', 'F146', 'F213'],\n",
    "    value='F062',\n",
    "    description='Filter:',\n",
    "    disabled=False,)\n",
    "\n",
    "display(widg_flt)"
   ]
  },
  {
   "cell_type": "code",
   "execution_count": 3,
   "metadata": {},
   "outputs": [
    {
     "name": "stdout",
     "output_type": "stream",
     "text": [
      "You selected: F062\n"
     ]
    }
   ],
   "source": [
    "filter = widg_flt.value\n",
    "print(\"You selected: \"+filter)"
   ]
  },
  {
   "cell_type": "markdown",
   "metadata": {},
   "source": [
    "# Select the Zodiacal  light contribution:"
   ]
  },
  {
   "cell_type": "code",
   "execution_count": 4,
   "metadata": {},
   "outputs": [
    {
     "data": {
      "application/vnd.jupyter.widget-view+json": {
       "model_id": "d30064a300d743b8a25e5277f41be83b",
       "version_major": 2,
       "version_minor": 0
      },
      "text/plain": [
       "Dropdown(description='Zodical light:', options=(1.4, 2.0, 3.0), value=1.4)"
      ]
     },
     "metadata": {},
     "output_type": "display_data"
    }
   ],
   "source": [
    "widg_zod = widgets.Dropdown(\n",
    "    options=[1.4, 2.0, 3.0],\n",
    "    value=1.4,\n",
    "    description='Zodical light:',\n",
    "    disabled=False,)\n",
    "\n",
    "display(widg_zod)"
   ]
  },
  {
   "cell_type": "code",
   "execution_count": 5,
   "metadata": {},
   "outputs": [
    {
     "name": "stdout",
     "output_type": "stream",
     "text": [
      "You selected: 1.4\n"
     ]
    }
   ],
   "source": [
    "zodi = widg_zod.value\n",
    "print(\"You selected: \"+str(zodi))"
   ]
  },
  {
   "cell_type": "markdown",
   "metadata": {},
   "source": [
    "# Select your kind of source"
   ]
  },
  {
   "cell_type": "code",
   "execution_count": 6,
   "metadata": {},
   "outputs": [
    {
     "data": {
      "application/vnd.jupyter.widget-view+json": {
       "model_id": "0f489a462648423fb200f643a6c48c26",
       "version_major": 2,
       "version_minor": 0
      },
      "text/plain": [
       "Dropdown(description='Source:', options=('pont source', 'half-light radius = 0.2', 'half-light radius = 0.3'),…"
      ]
     },
     "metadata": {},
     "output_type": "display_data"
    }
   ],
   "source": [
    "widg_source = widgets.Dropdown(\n",
    "    options=['pont source', 'half-light radius = 0.2', 'half-light radius = 0.3'],\n",
    "    value='pont source',\n",
    "    description='Source:',\n",
    "    disabled=False,)\n",
    "\n",
    "display(widg_source)"
   ]
  },
  {
   "cell_type": "code",
   "execution_count": 7,
   "metadata": {},
   "outputs": [
    {
     "name": "stdout",
     "output_type": "stream",
     "text": [
      "You selected: pont source\n"
     ]
    }
   ],
   "source": [
    "source = widg_source.value\n",
    "print(\"You selected: \"+source)"
   ]
  },
  {
   "cell_type": "markdown",
   "metadata": {},
   "source": [
    "# Select the S/N"
   ]
  },
  {
   "cell_type": "code",
   "execution_count": 8,
   "metadata": {},
   "outputs": [
    {
     "data": {
      "application/vnd.jupyter.widget-view+json": {
       "model_id": "2415e7521ec14d2b815f043ed0f208e4",
       "version_major": 2,
       "version_minor": 0
      },
      "text/plain": [
       "Dropdown(description='S/N:', options=(5, 10, 15, 20, 50), value=5)"
      ]
     },
     "metadata": {},
     "output_type": "display_data"
    }
   ],
   "source": [
    "widg_snr = widgets.Dropdown(\n",
    "    options=[5, 10, 15, 20, 50],\n",
    "    value=5,\n",
    "    description='S/N:',\n",
    "    disabled=False,)\n",
    "\n",
    "display(widg_snr)"
   ]
  },
  {
   "cell_type": "code",
   "execution_count": 9,
   "metadata": {},
   "outputs": [
    {
     "name": "stdout",
     "output_type": "stream",
     "text": [
      "You selected: 5\n"
     ]
    }
   ],
   "source": [
    "snr = widg_snr.value\n",
    "print(\"You selected: \"+str(snr))"
   ]
  },
  {
   "cell_type": "markdown",
   "metadata": {},
   "source": [
    "# Read in the selected data file\n",
    "\n",
    "By selecting a source you are reading in a certain data file. We will do this below using ascii.read."
   ]
  },
  {
   "cell_type": "code",
   "execution_count": 10,
   "metadata": {},
   "outputs": [],
   "source": [
    "if source == \"pont source\":\n",
    "    data = ascii.read(\"point_source.dat\")\n",
    "if source == \"half-light radius = 0.2\":\n",
    "    data = ascii.read(\"ext1_source.dat\")\n",
    "if source == \"half-light radius = 0.3\":\n",
    "    data = ascii.read(\"ext2_source.dat\")"
   ]
  },
  {
   "cell_type": "markdown",
   "metadata": {},
   "source": [
    "Now we obtain the key values from the file"
   ]
  },
  {
   "cell_type": "code",
   "execution_count": 11,
   "metadata": {},
   "outputs": [],
   "source": [
    "fl = np.array(data['Filt'], dtype=str)\n",
    "zd = np.array(data['zodi'], dtype=float)\n",
    "sn = np.array(data['SNR'], dtype=float)\n",
    "mag = np.array(data['Mag_AB'], dtype=float)\n",
    "exp = np.array(data['time'], dtype=float)"
   ]
  },
  {
   "cell_type": "markdown",
   "metadata": {},
   "source": [
    "Next we sort based on what you the user input "
   ]
  },
  {
   "cell_type": "code",
   "execution_count": 12,
   "metadata": {},
   "outputs": [],
   "source": [
    "#Filter selection\n",
    "a = np.where(fl==filter)\n",
    "fa, za, sa, ma, ea = fl[a], zd[a], sn[a], mag[a], exp[a]\n",
    "\n",
    "#Zodical light selection\n",
    "b = np.where(za==float(zodi))\n",
    "fb, zb, sb, mb, eb = fa[b], za[b], sa[b], ma[b], ea[b]\n",
    "\n",
    "#S/N selection\n",
    "c = np.where(sb==float(snr))\n",
    "fc, zc, sc, mc, ec = fb[c], zb[c], sb[c], mb[c], eb[c]\n",
    "\n",
    "tmin = np.min(ec)\n",
    "tmax = np.max(ec)"
   ]
  },
  {
   "cell_type": "markdown",
   "metadata": {},
   "source": [
    "Then we set up the interpolation, one based on magnitude and one on exposure time."
   ]
  },
  {
   "cell_type": "code",
   "execution_count": 13,
   "metadata": {},
   "outputs": [],
   "source": [
    "fm = interp1d(ec, mc) #Return a magnitude\n",
    "ft = interp1d(mc, ec) #Return a time"
   ]
  },
  {
   "cell_type": "markdown",
   "metadata": {},
   "source": [
    "# To calculate the magnitude of your object given an exposure time\n",
    "\n",
    "Note that you can only specify times between the minimim and maximum values as given below. If a -9 is returned. this is because the time specified is outside of the given range. "
   ]
  },
  {
   "cell_type": "code",
   "execution_count": 14,
   "metadata": {},
   "outputs": [
    {
     "name": "stdout",
     "output_type": "stream",
     "text": [
      "Minimum allowed time (sec): 10.0\n",
      "Maximum allowed time (sec): 32568.0\n"
     ]
    }
   ],
   "source": [
    "print(\"Minimum allowed time (sec): \"+str(tmin))\n",
    "print(\"Maximum allowed time (sec): \"+str(tmax))"
   ]
  },
  {
   "cell_type": "code",
   "execution_count": 15,
   "metadata": {},
   "outputs": [
    {
     "data": {
      "application/vnd.jupyter.widget-view+json": {
       "model_id": "fa036372d82b4ffea50d76795e6216b0",
       "version_major": 2,
       "version_minor": 0
      },
      "text/plain": [
       "FloatText(value=10.0, description='Exp time (s):')"
      ]
     },
     "metadata": {},
     "output_type": "display_data"
    }
   ],
   "source": [
    "widg_timein = widgets.FloatText(\n",
    "    value=10,\n",
    "    min= tmin,\n",
    "    max = tmax,\n",
    "    description='Exp time (s):',\n",
    "    disabled=False\n",
    ")\n",
    "\n",
    "display(widg_timein)"
   ]
  },
  {
   "cell_type": "code",
   "execution_count": 16,
   "metadata": {},
   "outputs": [
    {
     "name": "stdout",
     "output_type": "stream",
     "text": [
      "Calculated Mag (AB): 20.9\n"
     ]
    }
   ],
   "source": [
    "print(\"Calculated Mag (AB): \"+str(fm(widg_timein.value)))"
   ]
  },
  {
   "cell_type": "markdown",
   "metadata": {},
   "source": [
    "# To calculate the exposure time needed for your given object\n",
    "\n",
    "Note that you can only specify magnitudes between 20 and 30 AB."
   ]
  },
  {
   "cell_type": "code",
   "execution_count": 17,
   "metadata": {},
   "outputs": [
    {
     "data": {
      "application/vnd.jupyter.widget-view+json": {
       "model_id": "22959ef1e57c4eb1807ec4d245c172ff",
       "version_major": 2,
       "version_minor": 0
      },
      "text/plain": [
       "FloatText(value=20.0, description='Exp time (s):')"
      ]
     },
     "metadata": {},
     "output_type": "display_data"
    }
   ],
   "source": [
    "widg_magin = widgets.FloatText(\n",
    "    value=20,\n",
    "    min= 20,\n",
    "    max = 30,\n",
    "    description='Exp time (s):',\n",
    "    disabled=False\n",
    ")\n",
    "\n",
    "display(widg_magin)"
   ]
  },
  {
   "cell_type": "code",
   "execution_count": 18,
   "metadata": {},
   "outputs": [
    {
     "name": "stdout",
     "output_type": "stream",
     "text": [
      "Calculated Time (sec): 10.0\n"
     ]
    }
   ],
   "source": [
    "print(\"Calculated Time (sec): \"+str(ft(widg_magin.value)))"
   ]
  }
 ],
 "metadata": {
  "kernelspec": {
   "display_name": "Python 3",
   "language": "python",
   "name": "python3"
  },
  "language_info": {
   "codemirror_mode": {
    "name": "ipython",
    "version": 3
   },
   "file_extension": ".py",
   "mimetype": "text/x-python",
   "name": "python",
   "nbconvert_exporter": "python",
   "pygments_lexer": "ipython3",
   "version": "3.7.7"
  }
 },
 "nbformat": 4,
 "nbformat_minor": 4
}
